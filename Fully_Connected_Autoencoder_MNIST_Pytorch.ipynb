{
  "nbformat": 4,
  "nbformat_minor": 0,
  "metadata": {
    "colab": {
      "provenance": [],
      "gpuType": "T4"
    },
    "kernelspec": {
      "name": "python3",
      "display_name": "Python 3"
    },
    "language_info": {
      "name": "python"
    },
    "accelerator": "GPU"
  },
  "cells": [
    {
      "cell_type": "code",
      "source": [
        "!pip3 install Cython"
      ],
      "metadata": {
        "colab": {
          "base_uri": "https://localhost:8080/"
        },
        "id": "f1BRCdp5_eKL",
        "outputId": "ab3f8c1c-33d1-463f-dd96-f603c70cf384"
      },
      "execution_count": 11,
      "outputs": [
        {
          "output_type": "stream",
          "name": "stdout",
          "text": [
            "Requirement already satisfied: Cython in /usr/local/lib/python3.10/dist-packages (3.0.8)\n"
          ]
        }
      ]
    },
    {
      "cell_type": "code",
      "source": [
        "!pip install torch\n",
        "!pip install torchvision"
      ],
      "metadata": {
        "colab": {
          "base_uri": "https://localhost:8080/"
        },
        "id": "ZhdNDeTpXTZN",
        "outputId": "b0e30953-7b97-476c-b741-e685f134075e"
      },
      "execution_count": 12,
      "outputs": [
        {
          "output_type": "stream",
          "name": "stdout",
          "text": [
            "Requirement already satisfied: torch in /usr/local/lib/python3.10/dist-packages (2.1.0+cu121)\n",
            "Requirement already satisfied: filelock in /usr/local/lib/python3.10/dist-packages (from torch) (3.13.1)\n",
            "Requirement already satisfied: typing-extensions in /usr/local/lib/python3.10/dist-packages (from torch) (4.5.0)\n",
            "Requirement already satisfied: sympy in /usr/local/lib/python3.10/dist-packages (from torch) (1.12)\n",
            "Requirement already satisfied: networkx in /usr/local/lib/python3.10/dist-packages (from torch) (3.2.1)\n",
            "Requirement already satisfied: jinja2 in /usr/local/lib/python3.10/dist-packages (from torch) (3.1.3)\n",
            "Requirement already satisfied: fsspec in /usr/local/lib/python3.10/dist-packages (from torch) (2023.6.0)\n",
            "Requirement already satisfied: triton==2.1.0 in /usr/local/lib/python3.10/dist-packages (from torch) (2.1.0)\n",
            "Requirement already satisfied: MarkupSafe>=2.0 in /usr/local/lib/python3.10/dist-packages (from jinja2->torch) (2.1.3)\n",
            "Requirement already satisfied: mpmath>=0.19 in /usr/local/lib/python3.10/dist-packages (from sympy->torch) (1.3.0)\n",
            "Requirement already satisfied: torchvision in /usr/local/lib/python3.10/dist-packages (0.16.0+cu121)\n",
            "Requirement already satisfied: numpy in /usr/local/lib/python3.10/dist-packages (from torchvision) (1.23.5)\n",
            "Requirement already satisfied: requests in /usr/local/lib/python3.10/dist-packages (from torchvision) (2.31.0)\n",
            "Requirement already satisfied: torch==2.1.0 in /usr/local/lib/python3.10/dist-packages (from torchvision) (2.1.0+cu121)\n",
            "Requirement already satisfied: pillow!=8.3.*,>=5.3.0 in /usr/local/lib/python3.10/dist-packages (from torchvision) (9.4.0)\n",
            "Requirement already satisfied: filelock in /usr/local/lib/python3.10/dist-packages (from torch==2.1.0->torchvision) (3.13.1)\n",
            "Requirement already satisfied: typing-extensions in /usr/local/lib/python3.10/dist-packages (from torch==2.1.0->torchvision) (4.5.0)\n",
            "Requirement already satisfied: sympy in /usr/local/lib/python3.10/dist-packages (from torch==2.1.0->torchvision) (1.12)\n",
            "Requirement already satisfied: networkx in /usr/local/lib/python3.10/dist-packages (from torch==2.1.0->torchvision) (3.2.1)\n",
            "Requirement already satisfied: jinja2 in /usr/local/lib/python3.10/dist-packages (from torch==2.1.0->torchvision) (3.1.3)\n",
            "Requirement already satisfied: fsspec in /usr/local/lib/python3.10/dist-packages (from torch==2.1.0->torchvision) (2023.6.0)\n",
            "Requirement already satisfied: triton==2.1.0 in /usr/local/lib/python3.10/dist-packages (from torch==2.1.0->torchvision) (2.1.0)\n",
            "Requirement already satisfied: charset-normalizer<4,>=2 in /usr/local/lib/python3.10/dist-packages (from requests->torchvision) (3.3.2)\n",
            "Requirement already satisfied: idna<4,>=2.5 in /usr/local/lib/python3.10/dist-packages (from requests->torchvision) (3.6)\n",
            "Requirement already satisfied: urllib3<3,>=1.21.1 in /usr/local/lib/python3.10/dist-packages (from requests->torchvision) (2.0.7)\n",
            "Requirement already satisfied: certifi>=2017.4.17 in /usr/local/lib/python3.10/dist-packages (from requests->torchvision) (2023.11.17)\n",
            "Requirement already satisfied: MarkupSafe>=2.0 in /usr/local/lib/python3.10/dist-packages (from jinja2->torch==2.1.0->torchvision) (2.1.3)\n",
            "Requirement already satisfied: mpmath>=0.19 in /usr/local/lib/python3.10/dist-packages (from sympy->torch==2.1.0->torchvision) (1.3.0)\n"
          ]
        }
      ]
    },
    {
      "cell_type": "code",
      "source": [
        "import torch\n",
        "from torchvision import datasets\n",
        "from torchvision import transforms\n",
        "import torch.utils.data as data_utils\n",
        "import matplotlib.pyplot as plt"
      ],
      "metadata": {
        "id": "qkKWbOurXfH1"
      },
      "execution_count": 13,
      "outputs": []
    },
    {
      "cell_type": "code",
      "source": [
        "# Transforms images to a PyTorch Tensor\n",
        "tensor_transform = transforms.ToTensor()\n",
        "\n",
        "# Download the MNIST Dataset\n",
        "dataset = datasets.MNIST(root = \"./data\",\n",
        "\t\t\t\t\t\ttrain = True,\n",
        "\t\t\t\t\t\tdownload = True,\n",
        "\t\t\t\t\t\ttransform = tensor_transform)\n",
        "\n",
        "indices = torch.arange(30000)\n",
        "subset = data_utils.Subset(dataset, indices)\n",
        "\n",
        "# DataLoader is used to load the dataset\n",
        "# for training\n",
        "loader = torch.utils.data.DataLoader(dataset = subset,\n",
        "\t\t\t\t\t\t\t\t\tbatch_size = 256,\n",
        "\t\t\t\t\t\t\t\t\tshuffle = True)\n"
      ],
      "metadata": {
        "id": "nFRfrLd1XgAt"
      },
      "execution_count": 14,
      "outputs": []
    },
    {
      "cell_type": "code",
      "source": [
        "image, label = dataset.__getitem__(456)\n",
        "print (label)\n",
        "image = torch.transpose(torch.swapaxes(image, 0, 2), 0, 1)\n",
        "print (image.shape)\n",
        "plt.figure()\n",
        "plt.imshow(image)\n",
        "plt.show()"
      ],
      "metadata": {
        "id": "QY5gchoDaSGP",
        "colab": {
          "base_uri": "https://localhost:8080/",
          "height": 485
        },
        "outputId": "642f5280-6d5d-4c04-e32d-4252cafc84fe"
      },
      "execution_count": 15,
      "outputs": [
        {
          "output_type": "stream",
          "name": "stdout",
          "text": [
            "8\n",
            "torch.Size([28, 28, 1])\n"
          ]
        },
        {
          "output_type": "display_data",
          "data": {
            "text/plain": [
              "<Figure size 640x480 with 1 Axes>"
            ],
            "image/png": "[encoded data removed]"
          },
          "metadata": {}
        }
      ]
    },
    {
      "cell_type": "code",
      "source": [
        "from torch.nn import Sigmoid\n",
        "# Creating a PyTorch class\n",
        "# 28*28 ==> 9 ==> 28*28\n",
        "class AE(torch.nn.Module):\n",
        "\tdef __init__(self):\n",
        "\t\tsuper().__init__()\n",
        "\n",
        "\t\t# Building an linear encoder with Linear\n",
        "\t\t# layer followed by Relu activation function\n",
        "\t\t# 784 ==> 9\n",
        "\t\tself.encoder = torch.nn.Sequential(\n",
        "\t\t\ttorch.nn.Linear(28 * 28, 64),\n",
        "\t\t\ttorch.nn.ReLU(),\n",
        "\t\t\ttorch.nn.Linear(64, 2)\n",
        "\t\t)\n",
        "\n",
        "\t\t# Building an linear decoder with Linear\n",
        "\t\t# layer followed by Relu activation function\n",
        "\t\t# The Sigmoid activation function\n",
        "\t\t# outputs the value between 0 and 1\n",
        "\t\t# 9 ==> 784\n",
        "\t\tself.decoder = torch.nn.Sequential(\n",
        "\t\t\ttorch.nn.Linear(2, 64),\n",
        "\t\t\ttorch.nn.ReLU(),\n",
        "\t\t\ttorch.nn.Linear(64, 28 * 28),\n",
        "      torch.nn.Sigmoid()\n",
        "\t\t)\n",
        "\n",
        "\tdef forward(self, x):\n",
        "\t\tencoded = self.encoder(x)\n",
        "\t\tdecoded = self.decoder(encoded)\n",
        "\t\treturn decoded\n"
      ],
      "metadata": {
        "id": "QYNxYvKxXhuK"
      },
      "execution_count": 16,
      "outputs": []
    },
    {
      "cell_type": "code",
      "source": [
        "# Model Initialization\n",
        "model = AE()\n",
        "\n",
        "# Validation using MSE Loss function\n",
        "loss_function = torch.nn.MSELoss()\n",
        "\n",
        "# Using an Adam Optimizer with lr = 0.001\n",
        "optimizer = torch.optim.Adam(model.parameters(),\n",
        "\t\t\t\t\t\t\tlr = 1e-3)\n"
      ],
      "metadata": {
        "id": "vRj2PirZXk3-"
      },
      "execution_count": 17,
      "outputs": []
    },
    {
      "cell_type": "code",
      "source": [
        "epochs = 5\n",
        "outputs = []\n",
        "losses = []\n",
        "for epoch in range(epochs):\n",
        "  print (epoch)\n",
        "  i = 0\n",
        "  for (image, _label) in loader:\n",
        "    if i % 100 == 0: print('.',end=\"\")\n",
        "    i = i + 1\n",
        "    # Reshaping the image to (-1, 784)\n",
        "    image = image.reshape(-1, 28*28)\n",
        "\n",
        "    # Output of Autoencoder\n",
        "    reconstructed = model(image)\n",
        "\n",
        "    # Calculating the loss function\n",
        "    loss = torch.mean(torch.square(reconstructed - image))\n",
        "    #loss = loss_function(reconstructed, image)\n",
        "\n",
        "    # The gradients are set to zero,\n",
        "    # the gradient is computed and stored.\n",
        "    # .step() performs parameter update\n",
        "    optimizer.zero_grad()\n",
        "    loss.backward()\n",
        "    optimizer.step()\n",
        "    #print (loss.values)\n",
        "    # Storing the losses in a list for plotting\n",
        "    losses.append(loss.detach().cpu())\n",
        "  #outputs.append((epoch, image, reconstructed))\n",
        "\n",
        "# Defining the Plot Style\n",
        "plt.style.use('fivethirtyeight')\n",
        "plt.xlabel('Iterations')\n",
        "plt.ylabel('Loss')\n",
        "\n",
        "# Plotting the last 100 values\n",
        "plt.plot(losses)\n"
      ],
      "metadata": {
        "id": "2AtJf3f3Xm2b",
        "colab": {
          "base_uri": "https://localhost:8080/"
        },
        "outputId": "44e27759-53f6-4732-ad4e-a5bce5aa44bf"
      },
      "execution_count": null,
      "outputs": [
        {
          "output_type": "stream",
          "name": "stdout",
          "text": [
            "0\n",
            "..1\n",
            "..2\n",
            "..3\n",
            "..4\n",
            "."
          ]
        }
      ]
    },
    {
      "cell_type": "code",
      "source": [
        "image, label = dataset.__getitem__(12)\n",
        "\n",
        "\n",
        "reconstruction = model(image.reshape(1,1,28*28)).detach().cpu().reshape(28,28)\n",
        "coordinate =  model.encoder(image.reshape(1,1,28*28)).detach().cpu().reshape(2)\n",
        "print (label, image.shape, coordinate)\n",
        "image = torch.transpose(torch.swapaxes(image, 0, 2), 0, 1)\n",
        "plt.figure()\n",
        "plt.imshow(image)\n",
        "\n",
        "plt.figure()\n",
        "plt.imshow(reconstruction)\n",
        "\n",
        "\n",
        "plt.show()\n",
        "\n"
      ],
      "metadata": {
        "id": "AdbPkbhgwBCJ"
      },
      "execution_count": null,
      "outputs": []
    },
    {
      "cell_type": "code",
      "source": [
        "plt.figure()\n",
        "for x in range(-5,6):\n",
        "  for y in range(-5,6):\n",
        "    coordinate = torch.tensor((1.0*x,1.0*y))\n",
        "    image = model.decoder(coordinate).detach().cpu().reshape(28,28)\n",
        "    ax = plt.subplot2grid((11,11),(x+5,y+5))\n",
        "    plt.imshow(image)\n",
        "    ax.axis('off')"
      ],
      "metadata": {
        "id": "dU_NcDGSzif2"
      },
      "execution_count": null,
      "outputs": []
    }
  ]
}